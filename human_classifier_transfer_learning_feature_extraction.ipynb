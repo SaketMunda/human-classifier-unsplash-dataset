{
  "nbformat": 4,
  "nbformat_minor": 0,
  "metadata": {
    "colab": {
      "provenance": [],
      "authorship_tag": "ABX9TyPBdBfDqYd2jjfKsJmK9PSx",
      "include_colab_link": true
    },
    "kernelspec": {
      "name": "python3",
      "display_name": "Python 3"
    },
    "language_info": {
      "name": "python"
    }
  },
  "cells": [
    {
      "cell_type": "markdown",
      "metadata": {
        "id": "view-in-github",
        "colab_type": "text"
      },
      "source": [
        "<a href=\"https://colab.research.google.com/github/SaketMunda/human-classifier-unsplash-dataset/blob/master/human_classifier_transfer_learning_feature_extraction.ipynb\" target=\"_parent\"><img src=\"https://colab.research.google.com/assets/colab-badge.svg\" alt=\"Open In Colab\"/></a>"
      ]
    },
    {
      "cell_type": "markdown",
      "source": [
        "# Building Human Classifier using Transfer Learning Feature extraction\n",
        "\n",
        "This notebook is responsible for building our own transfer learning feature extraction model for human classification problem.\n",
        "\n",
        "For transfer learning, we'll take two models from [`tensorflow_hub`](https://www.tensorflow.org/hub) and visualize the outputs of both the experiments using [`Tensorboard Playground`](https://www.tensorflow.org/tensorboard).  "
      ],
      "metadata": {
        "id": "wGErJ4Y61cAh"
      }
    },
    {
      "cell_type": "code",
      "source": [],
      "metadata": {
        "id": "JwokenjC22lZ"
      },
      "execution_count": null,
      "outputs": []
    }
  ]
}